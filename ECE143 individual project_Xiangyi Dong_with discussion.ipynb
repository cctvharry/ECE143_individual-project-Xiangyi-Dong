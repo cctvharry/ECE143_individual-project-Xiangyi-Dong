{
 "cells": [
  {
   "cell_type": "markdown",
   "metadata": {},
   "source": [
    "# ECE143 individual project\n",
    "This assignment is to use python to mimic ad-hoc system. \n",
    "The whole project was finished with 4 functions:\n",
    "Tower genration function newTwer, overlap accumulation function accumulate, signal area trim function, and plot figure function. \n",
    "\n"
   ]
  },
  {
   "cell_type": "markdown",
   "metadata": {},
   "source": [
    "I generate new tower with 4 viables: x, y,wide, height, where (x,y) is the location of the tower(bottom left point of the signal area); wide and height was the size of the signal area.\n",
    "Following is the detial of the function:"
   ]
  },
  {
   "cell_type": "code",
   "execution_count": 223,
   "metadata": {},
   "outputs": [],
   "source": [
    "def newTower():#generate a new tower with random uniformly distribution\n",
    "    import numpy as np\n",
    "    import random\n",
    "    x=random.randint(0,areaLimit-1)\n",
    "    y=random.randint(0,areaLimit-1)\n",
    "    wide = random.randint(1,areaLimit-x)\n",
    "    height=random.randint(1,areaLimit-y)\n",
    "        #random set the area\n",
    "    rawData=[x,y,wide,height]\n",
    "    #user=matplotlib.patches.Rectangle((x,y),wide,height,color='yellow')\n",
    "    return rawData"
   ]
  },
  {
   "cell_type": "code",
   "execution_count": null,
   "metadata": {},
   "outputs": [],
   "source": []
  },
  {
   "cell_type": "markdown",
   "metadata": {},
   "source": [
    "In the main function, I can call the function in this way:"
   ]
  },
  {
   "cell_type": "code",
   "execution_count": 224,
   "metadata": {},
   "outputs": [
    {
     "data": {
      "text/plain": [
       "<matplotlib.patches.Rectangle at 0x116d177d0>"
      ]
     },
     "execution_count": 224,
     "metadata": {},
     "output_type": "execute_result"
    },
    {
     "data": {
      "image/png": "[encoded data removed]",
      "text/plain": [
       "<matplotlib.figure.Figure at 0x115dcbfd0>"
      ]
     },
     "metadata": {},
     "output_type": "display_data"
    }
   ],
   "source": [
    "import numpy as np\n",
    "import matplotlib\n",
    "import matplotlib.pyplot as plt\n",
    "\n",
    "\n",
    "areaLimit=10\n",
    "fig=plt.figure()\n",
    "plt.xlim([0*areaLimit,areaLimit])\n",
    "plt.ylim([0*areaLimit,areaLimit])\n",
    "ax=fig.add_subplot(111)\n",
    "rawData=newTower()\n",
    "user=matplotlib.patches.Rectangle((rawData[0],rawData[1]),rawData[2],rawData[3],color='yellow',alpha=0.5)\n",
    "ax.add_patch(user)"
   ]
  },
  {
   "cell_type": "markdown",
   "metadata": {},
   "source": [
    "then the second tower:"
   ]
  },
  {
   "cell_type": "code",
   "execution_count": 225,
   "metadata": {},
   "outputs": [
    {
     "data": {
      "image/png": "[encoded data removed]",
      "text/plain": [
       "<matplotlib.figure.Figure at 0x115dcbfd0>"
      ]
     },
     "execution_count": 225,
     "metadata": {},
     "output_type": "execute_result"
    }
   ],
   "source": [
    "rawData=newTower()\n",
    "user=matplotlib.patches.Rectangle((rawData[0],rawData[1]),rawData[2],rawData[3],color='blue',alpha=0.5)\n",
    "ax.add_patch(user)\n",
    "fig\n"
   ]
  },
  {
   "cell_type": "markdown",
   "metadata": {},
   "source": [
    "Here we can see there are the overlap in these two signal tower, to avoid the overlap, I will use matrix to do the analysis. first, we set the whole area to be 10x10 list and was initiated as 10x10 zeros:"
   ]
  },
  {
   "cell_type": "code",
   "execution_count": 226,
   "metadata": {},
   "outputs": [
    {
     "name": "stdout",
     "output_type": "stream",
     "text": [
      "[[0 0 0 0 0 0 0 0 0 0]\n",
      " [0 0 0 0 0 0 0 0 0 0]\n",
      " [0 0 0 0 0 0 0 0 0 0]\n",
      " [0 0 0 0 0 0 0 0 0 0]\n",
      " [0 0 0 0 0 0 0 0 0 0]\n",
      " [0 0 0 0 0 0 0 0 0 0]\n",
      " [0 0 0 0 0 0 0 0 0 0]\n",
      " [0 0 0 0 0 0 0 0 0 0]\n",
      " [0 0 0 0 0 0 0 0 0 0]\n",
      " [0 0 0 0 0 0 0 0 0 0]]\n"
     ]
    }
   ],
   "source": [
    "filled_points=np.zeros([areaLimit,areaLimit],dtype=int)\n",
    "print filled_points"
   ]
  },
  {
   "cell_type": "markdown",
   "metadata": {},
   "source": [
    "as we notice that the first(yellow) rectangle is 7x7 , we will set it to be zero to note that these areas have been covered. rawData of the 1st rectangle should be [0,2,7,7], Then the filled_points should be as follows:"
   ]
  },
  {
   "cell_type": "code",
   "execution_count": 227,
   "metadata": {},
   "outputs": [
    {
     "name": "stdout",
     "output_type": "stream",
     "text": [
      "[[0 0 0 0 0 0 0 0 0 0]\n",
      " [0 0 0 0 0 0 0 0 0 0]\n",
      " [0 0 0 0 0 0 0 0 0 0]\n",
      " [0 0 1 1 1 0 0 0 0 0]\n",
      " [0 0 1 1 1 0 0 0 0 0]\n",
      " [0 0 1 1 1 0 0 0 0 0]\n",
      " [0 0 1 1 1 0 0 0 0 0]\n",
      " [0 0 1 1 1 0 0 0 0 0]\n",
      " [0 0 0 0 0 0 0 0 0 0]\n",
      " [0 0 0 0 0 0 0 0 0 0]]\n"
     ]
    }
   ],
   "source": [
    "rawData=[2,2,3,5]\n",
    "counts=np.zeros((rawData[3],rawData[2]),dtype=int)\n",
    "for i in range(len(filled_points)):\n",
    "    for j in range(len(filled_points[i])):\n",
    "        assert filled_points[i][j] in [0,1]\n",
    "    #filled tower signal should be list of [0,1]\n",
    "for i in range(rawData[3]):\n",
    "    for j in range(rawData[2]):\n",
    "        filled_points[len(filled_points)-rawData[1]-rawData[3]+i][rawData[0]+j]=1\n",
    "print filled_points"
   ]
  },
  {
   "cell_type": "markdown",
   "metadata": {},
   "source": [
    "New we are going to analysis the 2nd tower, which rawData[2,8,6,2]. However, we are going to just count the non-overlap part. If there is already signal covered, we are going to set the value to 0, and only there is no signal covered, we can set the value to 1. so that we will get:"
   ]
  },
  {
   "cell_type": "code",
   "execution_count": 228,
   "metadata": {},
   "outputs": [
    {
     "name": "stdout",
     "output_type": "stream",
     "text": [
      "filled_points \n",
      "[[0 0 0 0 0 0 0 0 0 0]\n",
      " [0 0 0 0 0 0 0 0 0 0]\n",
      " [0 0 0 0 0 0 0 0 0 0]\n",
      " [0 0 1 1 1 0 0 0 0 0]\n",
      " [0 0 1 1 1 0 0 0 0 0]\n",
      " [0 0 1 1 1 0 0 0 0 0]\n",
      " [0 0 1 1 1 0 0 0 0 0]\n",
      " [1 1 1 1 1 1 0 0 0 0]\n",
      " [1 1 1 1 1 1 0 0 0 0]\n",
      " [1 1 1 1 1 1 0 0 0 0]]\n",
      "counts\n",
      "[[1 1 0 0 0 1]\n",
      " [1 1 1 1 1 1]\n",
      " [1 1 1 1 1 1]]\n"
     ]
    }
   ],
   "source": [
    "rawData=[0,0,6,3]\n",
    "counts=np.zeros((rawData[3],rawData[2]),dtype=int)\n",
    "for i in range(rawData[3]):\n",
    "    for j in range(rawData[2]):\n",
    "        if filled_points[len(filled_points)-rawData[1]-rawData[3]+i][rawData[0]+j]==0:\n",
    "            counts[i][j]=1\n",
    "        else:\n",
    "            counts[i][j]=0\n",
    "        filled_points[len(filled_points)-rawData[1]-rawData[3]+i][rawData[0]+j]=1\n",
    "print 'filled_points \\n',filled_points\n",
    "print \"counts\\n\",counts"
   ]
  },
  {
   "cell_type": "markdown",
   "metadata": {},
   "source": [
    "in filled_points \"1\" means signal cover (before-trimmed), and '0' means no signal cover. Then we get the array counts to trim as above. In array counts, 1 means no overlap, 0 means overlapped. Then, we are going to use function accumulate to accumulate the counts one row by one row, the total procedure was included in function accumulate:"
   ]
  },
  {
   "cell_type": "code",
   "execution_count": 229,
   "metadata": {},
   "outputs": [],
   "source": [
    "def accumulate(filled_points,rawData):\n",
    "    counts=np.zeros((rawData[3],rawData[2]),dtype=int)\n",
    "    for i in range(len(filled_points)):\n",
    "        for j in range(len(filled_points[i])):\n",
    "            assert filled_points[i][j] in [0,1]\n",
    "    #filled tower signal should be list of [0,1]\n",
    "    for i in range(rawData[3]):\n",
    "        for j in range(rawData[2]):\n",
    "            if filled_points[len(filled_points)-rawData[1]-rawData[3]+i][rawData[0]+j]==0:\n",
    "                counts[i][j]=1\n",
    "            else:\n",
    "                counts[i][j]=0\n",
    "            filled_points[len(filled_points)-rawData[1]-rawData[3]+i][rawData[0]+j]=1\n",
    "    accum=np.zeros((rawData[3],rawData[2]),dtype=int)\n",
    "    max_area=0\n",
    "    for i in range(0,len(counts)):\n",
    "        if i==0:\n",
    "            accum[i]=counts[i]\n",
    "        \n",
    "        else:\n",
    "            for j in range(len(counts[i])):\n",
    "                if counts[i][j]==0:\n",
    "                    accum[i][j]=0\n",
    "                else:\n",
    "                    accum[i][j]=accumulate[i-1][j]+1\n",
    "    return accum,filled"
   ]
  },
  {
   "cell_type": "markdown",
   "metadata": {},
   "source": [
    "I will use the exaple above to show how the accumlate works:"
   ]
  },
  {
   "cell_type": "code",
   "execution_count": 230,
   "metadata": {},
   "outputs": [
    {
     "name": "stdout",
     "output_type": "stream",
     "text": [
      "[[1 1 0 0 0 1]\n",
      " [2 2 1 1 1 2]\n",
      " [3 3 2 2 2 3]]\n"
     ]
    }
   ],
   "source": [
    "accum=np.zeros((rawData[3],rawData[2]),dtype=int)\n",
    "max_area=0\n",
    "for i in range(0,len(counts)):\n",
    "    if i==0:\n",
    "        accum[i]=counts[i]\n",
    "        \n",
    "    else:\n",
    "        for j in range(len(counts[i])):\n",
    "            if counts[i][j]==0:\n",
    "                accum[i][j]=0\n",
    "            else:\n",
    "                accum[i][j]=accum[i-1][j]+1\n",
    "print accum"
   ]
  },
  {
   "cell_type": "markdown",
   "metadata": {},
   "source": [
    "Then I will use row_max(a) and trim_rec(accumulate)function to trim the rectangle and get the rawData of trimmed rectangle:"
   ]
  },
  {
   "cell_type": "code",
   "execution_count": 231,
   "metadata": {},
   "outputs": [],
   "source": [
    "def row_max(a):\n",
    "    xx=0\n",
    "    h=0\n",
    "    max_area=0\n",
    "    for i in range(len(a)):\n",
    "        area=0\n",
    "        if a[i]==0:\n",
    "            continue\n",
    "        elif a[i]==1:\n",
    "            for j in range(i,len(a)):\n",
    "                if a[j]>0:\n",
    "                    area=area+1\n",
    "                    x=i\n",
    "                else:\n",
    "                    break\n",
    "            if area>max_area:\n",
    "                max_area=area\n",
    "                xx=x+1\n",
    "                h=1\n",
    "            \n",
    "        elif a[i]>1:\n",
    "            for k in range(1,a[i]+1):\n",
    "                area=0\n",
    "                for j in range(i,len(a)):\n",
    "                    if a[j]>=k:\n",
    "                        area=area+k\n",
    "                    else: break\n",
    "            if area>max_area:\n",
    "                max_area=area\n",
    "                xx=i+1\n",
    "                h=k\n",
    "    return max_area,xx,h\n",
    "\n",
    "\n",
    "def trim_rec(accumulate):\n",
    "    max_area=0\n",
    "    x=0\n",
    "    wide=0\n",
    "    height=0\n",
    "    y=0\n",
    "    for i in range(len(accumulate)):\n",
    "        area=row_max(accumulate[i])[0]\n",
    "        if area>max_area:\n",
    "            max_area,x,height=row_max(accumulate[i])\n",
    "            y=i+1\n",
    "            wide=max_area/height\n",
    "        else:\n",
    "            continue\n",
    "    return max_area,x+rawData[0]-1,rawData[1]+rawData[3]-y,wide,height"
   ]
  },
  {
   "cell_type": "markdown",
   "metadata": {},
   "source": [
    "From the array accum, we can we directly see from array accum, the 1st row will form a rectangle with area of 5, while from the 2nd row, we can also trim a rectangle with area of 2, in that case, after compare the area, we know trim the area to the first row should be a good choice. We can also derive the rawData of trimmed rectangle: "
   ]
  },
  {
   "cell_type": "code",
   "execution_count": 232,
   "metadata": {},
   "outputs": [
    {
     "name": "stdout",
     "output_type": "stream",
     "text": [
      "2 1 1\n",
      "4 1 2\n",
      "8 3 2\n",
      "[2, 0, 4, 2]\n",
      "8 2 0 4 2\n"
     ]
    }
   ],
   "source": [
    "max_area=0\n",
    "for i in range(len(accum)):\n",
    "    area,x,height=row_max(accum[i])\n",
    "    print area,x,height\n",
    "    if area>max_area:\n",
    "        max_area=area\n",
    "        max_area,x,height=row_max(accum[i])\n",
    "        y=i\n",
    "        wide=max_area/height\n",
    "    else:\n",
    "        continue\n",
    "max_area,x,y,wide,height=trim_rec(accum)\n",
    "new_rawData= [x,y,wide,height]\n",
    "print new_rawData\n",
    "print max_area,x,y,wide,height"
   ]
  },
  {
   "cell_type": "markdown",
   "metadata": {},
   "source": [
    "Now we have already now the new x, y, wide, and height. we set it to new_rawData. and we can get the figure"
   ]
  },
  {
   "cell_type": "code",
   "execution_count": null,
   "metadata": {},
   "outputs": [],
   "source": [
    "\n"
   ]
  },
  {
   "cell_type": "code",
   "execution_count": 234,
   "metadata": {},
   "outputs": [
    {
     "name": "stdout",
     "output_type": "stream",
     "text": [
      "[2, 0, 4, 2]\n"
     ]
    },
    {
     "data": {
      "image/png": "[encoded data removed]",
      "text/plain": [
       "<matplotlib.figure.Figure at 0x115faf0d0>"
      ]
     },
     "metadata": {},
     "output_type": "display_data"
    }
   ],
   "source": [
    "import numpy as np\n",
    "import matplotlib\n",
    "import matplotlib.pyplot as plt\n",
    "import random\n",
    "areaLimit=10\n",
    "fig=plt.figure()\n",
    "plt.xlim([0*areaLimit,areaLimit])\n",
    "plt.ylim([0*areaLimit,areaLimit])\n",
    "ax=fig.add_subplot(111)\n",
    "rawData=newTower()\n",
    "user=matplotlib.patches.Rectangle((0,2),7,7,color='yellow',alpha=0.5)\n",
    "ax.add_patch(user)\n",
    "area=7*7\n",
    "r = lambda: random.randint(0,255)\n",
    "c=('#%02X%02X%02X' % (r(),r(),r()))\n",
    "print new_rawData\n",
    "user=matplotlib.patches.Rectangle((new_rawData[0],new_rawData[1]),new_rawData[2],new_rawData[3],color=c,alpha=0.5)\n",
    "ax.add_patch(user)\n",
    "fig.show()"
   ]
  },
  {
   "cell_type": "markdown",
   "metadata": {},
   "source": [
    "The trimmed fig shows above, the area will be accumulated as total_area=total_area+max_area\n",
    "Then we can get a result by running multiple times. "
   ]
  },
  {
   "cell_type": "markdown",
   "metadata": {},
   "source": [
    "Then the functions can be arrange in a main function, I will run 5 times as am exmple:"
   ]
  },
  {
   "cell_type": "code",
   "execution_count": 235,
   "metadata": {},
   "outputs": [
    {
     "name": "stdout",
     "output_type": "stream",
     "text": [
      "please input the edge of the whole area10\n",
      "[0, 0, 9, 6]\n",
      "54\n",
      "[4, 7, 3, 1]\n",
      "57\n",
      "[8, 0, 1, 9]\n",
      "60\n",
      "[1, 7, 3, 2]\n",
      "66\n",
      "[0, 7, 3, 2]\n",
      "68\n"
     ]
    },
    {
     "data": {
      "image/png": "[encoded data removed]",
      "text/plain": [
       "<matplotlib.figure.Figure at 0x116b89c50>"
      ]
     },
     "metadata": {},
     "output_type": "display_data"
    }
   ],
   "source": [
    "import numpy as np\n",
    "import numpy as np\n",
    "import matplotlib\n",
    "import matplotlib.pyplot as plt\n",
    "import random\n",
    "areaLimit=int(input(\"please input the edge of the whole area\"))\n",
    "fig=plt.figure()\n",
    "plt.xlim([0*areaLimit,areaLimit])\n",
    "plt.ylim([0*areaLimit,areaLimit])\n",
    "ax=fig.add_subplot(111)\n",
    "filled=np.zeros([areaLimit,areaLimit],dtype=int)\n",
    "total_area=range(100)\n",
    "n=range(100)\n",
    "for n in range(5):\n",
    "    max_area,x,y,wide,height=[0,0,0,0,0]\n",
    "    rawData=newTower()\n",
    "    if n==0:\n",
    "        counts=np.zeros((rawData[3],rawData[2]),dtype=int)\n",
    "        print rawData\n",
    "        for i in range(len(filled)):\n",
    "            for j in range(len(filled)):\n",
    "                assert filled[i][j] in [0,1]\n",
    "# #     #filled tower signal should be list of [0,1]\n",
    "        for i in range(rawData[3]):\n",
    "            for j in range(rawData[2]):\n",
    "                filled[len(filled)-rawData[1]-rawData[3]+i][rawData[0]+j]=1\n",
    "        r = lambda: random.randint(0,255)\n",
    "        c=('#%02X%02X%02X' % (r(),r(),r()))\n",
    "        user=matplotlib.patches.Rectangle((rawData[0],rawData[1]),rawData[2],rawData[3],color=c,alpha=0.5)\n",
    "        ax.add_patch(user)\n",
    "        total_area[n]=rawData[2]*rawData[3]\n",
    "        print total_area[n]\n",
    "        \n",
    "    else:\n",
    "        print rawData\n",
    "        counts=np.zeros((rawData[3],rawData[2]),dtype=int)\n",
    "        for i in range(rawData[3]):\n",
    "            for j in range(rawData[2]):\n",
    "                if filled[len(filled)-rawData[1]-rawData[3]+i][rawData[0]+j]==0:\n",
    "                    counts[i][j]=1\n",
    "                else:\n",
    "                    counts[i][j]=0\n",
    "                filled[len(filled_points)-rawData[1]-rawData[3]+i][rawData[0]+j]=1\n",
    "        accum=np.zeros((rawData[3],rawData[2]),dtype=int)\n",
    "        max_area=0\n",
    "        for i in range(0,len(counts)):\n",
    "            if i==0:\n",
    "                accum[i]=counts[i]\n",
    "        \n",
    "            else:\n",
    "                for j in range(len(counts[i])):\n",
    "                    if counts[i][j]==0:\n",
    "                        accum[i][j]=0\n",
    "                    else:\n",
    "                        accum[i][j]=accum[i-1][j]+1\n",
    "        max_area=0\n",
    "        for i in range(len(accum)):\n",
    "            area,x,height=row_max(accum[i])\n",
    "            if area>max_area:\n",
    "                max_area=area\n",
    "                max_area,x,height=row_max(accum[i])\n",
    "                y=i\n",
    "                wide=max_area/height\n",
    "            else:\n",
    "                continue\n",
    "        max_area,x,y,wide,height=trim_rec(accum)\n",
    "        new_rawData= [x,y,wide,height]\n",
    "        total_area[n]=total_area[n-1]+max_area\n",
    "        print total_area[n]\n",
    "        r = lambda: random.randint(0,255)\n",
    "        c=('#%02X%02X%02X' % (r(),r(),r()))\n",
    "        user=matplotlib.patches.Rectangle((new_rawData[0],new_rawData[1]),new_rawData[2],new_rawData[3],color=c,alpha=0.5)\n",
    "        ax.add_patch(user)\n",
    "   \n",
    "    fig"
   ]
  },
  {
   "cell_type": "markdown",
   "metadata": {},
   "source": [
    "Fig. 5 tower generated"
   ]
  },
  {
   "cell_type": "markdown",
   "metadata": {},
   "source": [
    "Here noticable, there is no overlap and from the each rawData generated, we can easily check that the function runs well. \n"
   ]
  },
  {
   "cell_type": "markdown",
   "metadata": {},
   "source": [
    "Then we are going to do the data analysis process:\n",
    "    1. Given an overall desired coverage footprint and a sequence of  n communications towers, what is the resulting resolved coverage?\n",
    "    2. What is the total area of coverage relative to the desired total coverage area of the original footprint? That is, are there any gaps in coverage?\n",
    "    3. On average, how many communications towers are required before full coverage is obtained?"
   ]
  },
  {
   "cell_type": "code",
   "execution_count": 241,
   "metadata": {},
   "outputs": [
    {
     "name": "stdout",
     "output_type": "stream",
     "text": [
      "please input the edge of the whole area10\n"
     ]
    },
    {
     "data": {
      "text/plain": [
       "[<matplotlib.lines.Line2D at 0x117662c50>]"
      ]
     },
     "execution_count": 241,
     "metadata": {},
     "output_type": "execute_result"
    },
    {
     "data": {
      "image/png": "[encoded data removed]",
      "text/plain": [
       "<matplotlib.figure.Figure at 0x10cea7bd0>"
      ]
     },
     "metadata": {},
     "output_type": "display_data"
    },
    {
     "data": {
      "image/png": "[encoded data removed]",
      "text/plain": [
       "<matplotlib.figure.Figure at 0x117374410>"
      ]
     },
     "metadata": {},
     "output_type": "display_data"
    }
   ],
   "source": [
    "import numpy as np\n",
    "import numpy as np\n",
    "import matplotlib\n",
    "import matplotlib.pyplot as plt\n",
    "import random\n",
    "areaLimit=int(input(\"please input the edge of the whole area\"))\n",
    "fig=plt.figure()\n",
    "plt.xlim([0*areaLimit,areaLimit])\n",
    "plt.ylim([0*areaLimit,areaLimit])\n",
    "ax=fig.add_subplot(111)\n",
    "filled=np.zeros([areaLimit,areaLimit],dtype=int)\n",
    "total_area=[0]*100\n",
    "time=range(1,101)\n",
    "sum_area=0\n",
    "for n in range(100):\n",
    "    max_area,x,y,wide,height=[0,0,0,0,0]\n",
    "    rawData=newTower()\n",
    "    if n==0:\n",
    "        counts=np.zeros((rawData[3],rawData[2]),dtype=int)\n",
    "        for i in range(len(filled)):\n",
    "            for j in range(len(filled)):\n",
    "                assert filled[i][j] in [0,1]\n",
    "# #     #filled tower signal should be list of [0,1]\n",
    "        for i in range(rawData[3]):\n",
    "            for j in range(rawData[2]):\n",
    "                filled[len(filled)-rawData[1]-rawData[3]+i][rawData[0]+j]=1\n",
    "        r = lambda: random.randint(0,255)\n",
    "        c=('#%02X%02X%02X' % (r(),r(),r()))\n",
    "        user=matplotlib.patches.Rectangle((rawData[0],rawData[1]),rawData[2],rawData[3],color=c,alpha=0.5)\n",
    "        ax.add_patch(user)\n",
    "        total_area[n]=rawData[2]*rawData[3]\n",
    "    else:\n",
    "        counts=np.zeros((rawData[3],rawData[2]),dtype=int)\n",
    "        for i in range(rawData[3]):\n",
    "            for j in range(rawData[2]):\n",
    "                if filled[len(filled)-rawData[1]-rawData[3]+i][rawData[0]+j]==0:\n",
    "                    counts[i][j]=1\n",
    "                else:\n",
    "                    counts[i][j]=0\n",
    "                filled[len(filled_points)-rawData[1]-rawData[3]+i][rawData[0]+j]=1\n",
    "        accum=np.zeros((rawData[3],rawData[2]),dtype=int)\n",
    "        max_area=0\n",
    "        for i in range(0,len(counts)):\n",
    "            if i==0:\n",
    "                accum[i]=counts[i]\n",
    "        \n",
    "            else:\n",
    "                for j in range(len(counts[i])):\n",
    "                    if counts[i][j]==0:\n",
    "                        accum[i][j]=0\n",
    "                    else:\n",
    "                        accum[i][j]=accum[i-1][j]+1\n",
    "        max_area=0\n",
    "        for i in range(len(accum)):\n",
    "            area,x,height=row_max(accum[i])\n",
    "            if area>max_area:\n",
    "                max_area=area\n",
    "                max_area,x,height=row_max(accum[i])\n",
    "                y=i\n",
    "                wide=max_area/height\n",
    "            else:\n",
    "                continue\n",
    "        max_area,x,y,wide,height=trim_rec(accum)\n",
    "        new_rawData= [x,y,wide,height]\n",
    "        total_area[n]=total_area[n-1]+max_area\n",
    "        r = lambda: random.randint(0,255)\n",
    "        c=('#%02X%02X%02X' % (r(),r(),r()))\n",
    "        user=matplotlib.patches.Rectangle((new_rawData[0],new_rawData[1]),new_rawData[2],new_rawData[3],color=c,alpha=0.5)\n",
    "        ax.add_patch(user)\n",
    "    sum_area=total_area[n]\n",
    "fig1 = plt.figure\n",
    "\n",
    "   \n",
    "fig1=plt.figure()\n",
    "plt.xlim([0,100])\n",
    "plt.ylim([0,areaLimit*areaLimit])\n",
    "ax=fig1.add_subplot(111)\n",
    "ax.plot(time,total_area)\n"
   ]
  },
  {
   "cell_type": "markdown",
   "metadata": {},
   "source": [
    "We can see there still some gap in coverge, that may because of the random process is random generate an (x,y), and then randome generate a wide and height between (x,y)and the axis. \n",
    "That is, if I choose a point(1,1), I can only generate a rectangle between (1,1) and (100,100). I may optimize the generation process as randomly generate 2 points, that will be much more better.\n",
    "I define another generation function to random choose 2 points as the bottom left and top right corner of the signal area:\n"
   ]
  },
  {
   "cell_type": "code",
   "execution_count": 280,
   "metadata": {},
   "outputs": [],
   "source": [
    "def newTower():#generate a new tower with random uniformly distribution\n",
    "    import numpy as np\n",
    "    import random\n",
    "    x1=random.randint(0,areaLimit)\n",
    "    y1=random.randint(0,areaLimit)\n",
    "    x2=random.randint(0,areaLimit)\n",
    "    while x2==x1:\n",
    "        x2=random.randint(0,areaLimit)\n",
    "    y2=random.randint(0,areaLimit)\n",
    "    while y2==y1:\n",
    "        y2=random.randint(0,areaLimit)\n",
    "    wide = abs(x1-x2)\n",
    "    height=abs(y1-y2)\n",
    "    x=min(x1,x2)\n",
    "    y=min(y1,y2)\n",
    "    height=random.randint(1,areaLimit-y)\n",
    "        #random set the area\n",
    "    rawData=[x,y,wide,height]\n",
    "    #user=matplotlib.patches.Rectangle((x,y),wide,height,color='yellow')\n",
    "    return rawData"
   ]
  },
  {
   "cell_type": "markdown",
   "metadata": {},
   "source": [
    "then run the function again:\n",
    "    "
   ]
  },
  {
   "cell_type": "code",
   "execution_count": 255,
   "metadata": {},
   "outputs": [
    {
     "name": "stdout",
     "output_type": "stream",
     "text": [
      "please input the edge of the whole area10\n"
     ]
    },
    {
     "data": {
      "text/plain": [
       "[<matplotlib.lines.Line2D at 0x1178e7c90>]"
      ]
     },
     "execution_count": 255,
     "metadata": {},
     "output_type": "execute_result"
    },
    {
     "data": {
      "image/png": "[encoded data removed]",
      "text/plain": [
       "<matplotlib.figure.Figure at 0x1164a2350>"
      ]
     },
     "metadata": {},
     "output_type": "display_data"
    },
    {
     "data": {
      "image/png": "[encoded data removed]",
      "text/plain": [
       "<matplotlib.figure.Figure at 0x1176b1bd0>"
      ]
     },
     "metadata": {},
     "output_type": "display_data"
    }
   ],
   "source": [
    "import numpy as np\n",
    "import numpy as np\n",
    "import matplotlib\n",
    "import matplotlib.pyplot as plt\n",
    "import random\n",
    "areaLimit=int(input(\"please input the edge of the whole area\"))\n",
    "fig=plt.figure()\n",
    "plt.xlim([0*areaLimit,areaLimit])\n",
    "plt.ylim([0*areaLimit,areaLimit])\n",
    "ax=fig.add_subplot(111)\n",
    "filled=np.zeros([areaLimit,areaLimit],dtype=int)\n",
    "total_area=[0]*100\n",
    "time=range(1,101)\n",
    "sum_area=0\n",
    "for n in range(100):\n",
    "    max_area,x,y,wide,height=[0,0,0,0,0]\n",
    "    rawData=newTower()\n",
    "    if n==0:\n",
    "        counts=np.zeros((rawData[3],rawData[2]),dtype=int)\n",
    "        for i in range(len(filled)):\n",
    "            for j in range(len(filled)):\n",
    "                assert filled[i][j] in [0,1]\n",
    "# #     #filled tower signal should be list of [0,1]\n",
    "        for i in range(rawData[3]):\n",
    "            for j in range(rawData[2]):\n",
    "                filled[len(filled)-rawData[1]-rawData[3]+i][rawData[0]+j]=1\n",
    "        r = lambda: random.randint(0,255)\n",
    "        c=('#%02X%02X%02X' % (r(),r(),r()))\n",
    "        user=matplotlib.patches.Rectangle((rawData[0],rawData[1]),rawData[2],rawData[3],color=c,alpha=0.5)\n",
    "        ax.add_patch(user)\n",
    "        total_area[n]=rawData[2]*rawData[3]\n",
    "    else:\n",
    "        counts=np.zeros((rawData[3],rawData[2]),dtype=int)\n",
    "        for i in range(rawData[3]):\n",
    "            for j in range(rawData[2]):\n",
    "                if filled[len(filled)-rawData[1]-rawData[3]+i][rawData[0]+j]==0:\n",
    "                    counts[i][j]=1\n",
    "                else:\n",
    "                    counts[i][j]=0\n",
    "                filled[len(filled_points)-rawData[1]-rawData[3]+i][rawData[0]+j]=1\n",
    "        accum=np.zeros((rawData[3],rawData[2]),dtype=int)\n",
    "        max_area=0\n",
    "        for i in range(0,len(counts)):\n",
    "            if i==0:\n",
    "                accum[i]=counts[i]\n",
    "        \n",
    "            else:\n",
    "                for j in range(len(counts[i])):\n",
    "                    if counts[i][j]==0:\n",
    "                        accum[i][j]=0\n",
    "                    else:\n",
    "                        accum[i][j]=accum[i-1][j]+1\n",
    "        max_area=0\n",
    "        for i in range(len(accum)):\n",
    "            area,x,height=row_max(accum[i])\n",
    "            if area>max_area:\n",
    "                max_area=area\n",
    "                max_area,x,height=row_max(accum[i])\n",
    "                y=i\n",
    "                wide=max_area/height\n",
    "            else:\n",
    "                continue\n",
    "        max_area,x,y,wide,height=trim_rec(accum)\n",
    "        new_rawData= [x,y,wide,height]\n",
    "        total_area[n]=total_area[n-1]+max_area\n",
    "        r = lambda: random.randint(0,255)\n",
    "        c=('#%02X%02X%02X' % (r(),r(),r()))\n",
    "        user=matplotlib.patches.Rectangle((new_rawData[0],new_rawData[1]),new_rawData[2],new_rawData[3],color=c,alpha=0.5)\n",
    "        ax.add_patch(user)\n",
    "    sum_area=total_area[n]\n",
    "fig1 = plt.figure\n",
    "\n",
    "   \n",
    "fig1=plt.figure()\n",
    "plt.xlim([0,100])\n",
    "plt.ylim([0,areaLimit*areaLimit])\n",
    "ax=fig1.add_subplot(111)\n",
    "ax.plot(time,total_area)\n",
    "\n"
   ]
  },
  {
   "cell_type": "markdown",
   "metadata": {},
   "source": [
    "the coverage is much better, however, there still some places cannot be covered. From the way we generate the tower, we can find that the point (0,0)coverage posibility is still much small than other points, that is only when we chose (0,0)as a start point, it can be convered. And also if there is a point haven't been covered, the next tower is still randomly generated, there is still possibility to both cover and not cover. "
   ]
  },
  {
   "cell_type": "markdown",
   "metadata": {},
   "source": [
    "# Limitation\n",
    "The larger the x,y is, the larger the possibility it will be to be covered by thtis system. If we want a good coverage on the whole area, it is better to think about the area that haven't been covered. However, in this problem, the user of the system is not reliable and randomly generate the tower makes this system have a limitation on optimizing the full-coverage. "
   ]
  },
  {
   "cell_type": "code",
   "execution_count": null,
   "metadata": {},
   "outputs": [],
   "source": [
    "import numpy as np\n",
    "import numpy as np\n",
    "import matplotlib\n",
    "import matplotlib.pyplot as plt\n",
    "import random\n",
    "areaLimit=int(input(\"please input the edge of the whole area\"))\n",
    "fig=plt.figure()\n",
    "plt.xlim([0*areaLimit,areaLimit])\n",
    "plt.ylim([0*areaLimit,areaLimit])\n",
    "ax=fig.add_subplot(111)\n",
    "filled=np.zeros([areaLimit,areaLimit],dtype=int)\n",
    "time=[0]\n",
    "n=0\n",
    "total=[0]\n",
    "while total[n]<areaLimit*areaLimit:\n",
    "    max_area,x,y,wide,height=[0,0,0,0,0]\n",
    "    rawData=newTower()\n",
    "    \n",
    "    time.append(n+1)\n",
    "    if n==0:\n",
    "        counts=np.zeros((rawData[3],rawData[2]),dtype=int)\n",
    "        for i in range(len(filled)):\n",
    "            for j in range(len(filled)):\n",
    "                assert filled[i][j] in [0,1]\n",
    "# #     #filled tower signal should be list of [0,1]\n",
    "        for i in range(rawData[3]):\n",
    "            for j in range(rawData[2]):\n",
    "                filled[len(filled)-rawData[1]-rawData[3]+i][rawData[0]+j]=1\n",
    "        r = lambda: random.randint(0,255)\n",
    "        c=('#%02X%02X%02X' % (r(),r(),r()))\n",
    "        user=matplotlib.patches.Rectangle((rawData[0],rawData[1]),rawData[2],rawData[3],color=c,alpha=0.5)\n",
    "        ax.add_patch(user)\n",
    "    \n",
    "    else:\n",
    "        counts=np.zeros((rawData[3],rawData[2]),dtype=int)\n",
    "        for i in range(rawData[3]):\n",
    "            for j in range(rawData[2]):\n",
    "                if filled[len(filled)-rawData[1]-rawData[3]+i][rawData[0]+j]==0:\n",
    "                    counts[i][j]=1\n",
    "                else:\n",
    "                    counts[i][j]=0\n",
    "                filled[len(filled_points)-rawData[1]-rawData[3]+i][rawData[0]+j]=1\n",
    "        accum=np.zeros((rawData[3],rawData[2]),dtype=int)\n",
    "        max_area=0\n",
    "        for i in range(0,len(counts)):\n",
    "            if i==0:\n",
    "                accum[i]=counts[i]\n",
    "        \n",
    "            else:\n",
    "                for j in range(len(counts[i])):\n",
    "                    if counts[i][j]==0:\n",
    "                        accum[i][j]=0\n",
    "                    else:\n",
    "                        accum[i][j]=accum[i-1][j]+1\n",
    "        max_area=0\n",
    "        for i in range(len(accum)):\n",
    "            area,x,height=row_max(accum[i])\n",
    "            if area>max_area:\n",
    "                max_area=area\n",
    "                max_area,x,height=row_max(accum[i])\n",
    "                y=i\n",
    "                wide=max_area/height\n",
    "            else:\n",
    "                continue\n",
    "        max_area,x,y,wide,height=trim_rec(accum)\n",
    "        new_rawData= [x,y,wide,height]\n",
    "        r = lambda: random.randint(0,255)\n",
    "        c=('#%02X%02X%02X' % (r(),r(),r()))\n",
    "        user=matplotlib.patches.Rectangle((new_rawData[0],new_rawData[1]),new_rawData[2],new_rawData[3],color=c,alpha=0.5)\n",
    "        ax.add_patch(user)\n",
    "        #total_area.append(total_area[n-1]+max_area)\n",
    "        print total_area\n",
    "        time.append(n+1)\n",
    "        print time\n",
    "    if n==0:\n",
    "        total.append(rawData[2]*rawData[3])\n",
    "    else:\n",
    "        total.append(new_rawData[2]*new_rawData[3])\n",
    "    n=n+1\n",
    "    print n\n",
    "fig1 = plt.figure"
   ]
  },
  {
   "cell_type": "markdown",
   "metadata": {},
   "source": [
    "Thus when I run the function above want to see how many time it need to full fill the area, it cannot run out the result."
   ]
  },
  {
   "cell_type": "markdown",
   "metadata": {},
   "source": []
  },
  {
   "cell_type": "code",
   "execution_count": 358,
   "metadata": {},
   "outputs": [],
   "source": []
  },
  {
   "cell_type": "code",
   "execution_count": null,
   "metadata": {},
   "outputs": [],
   "source": []
  },
  {
   "cell_type": "code",
   "execution_count": null,
   "metadata": {},
   "outputs": [],
   "source": []
  }
 ],
 "metadata": {
  "kernelspec": {
   "display_name": "Python 2",
   "language": "python",
   "name": "python2"
  },
  "language_info": {
   "codemirror_mode": {
    "name": "ipython",
    "version": 2
   },
   "file_extension": ".py",
   "mimetype": "text/x-python",
   "name": "python",
   "nbconvert_exporter": "python",
   "pygments_lexer": "ipython2",
   "version": "2.7.14"
  }
 },
 "nbformat": 4,
 "nbformat_minor": 2
}
