{
 "cells": [
  {
   "cell_type": "markdown",
   "metadata": {},
   "source": [
    "# ECE143 individual project\n",
    "This assignment is to use python to mimic ad-hoc system. \n",
    "The whole project was finished with 4 functions:\n",
    "Tower genration function newTwer, overlap accumulation function accumulate, signal area trim function, and plot figure function. \n",
    "\n"
   ]
  },
  {
   "cell_type": "markdown",
   "metadata": {},
   "source": [
    "I generate new tower with 4 viables: x, y,wide, height, where (x,y) is the location of the tower(bottom left point of the signal area); wide and height was the size of the signal area.\n",
    "Following is the detial of the function:"
   ]
  },
  {
   "cell_type": "code",
   "execution_count": 46,
   "metadata": {},
   "outputs": [],
   "source": [
    "def newTower():#generate a new tower with random uniformly distribution\n",
    "    import numpy as np\n",
    "    import random\n",
    "    x=random.randint(0,areaLimit-1)\n",
    "    y=random.randint(0,areaLimit-1)\n",
    "    wide = random.randint(1,areaLimit-x)\n",
    "    height=random.randint(1,areaLimit-y)\n",
    "        #random set the area\n",
    "    rawData=[x,y,wide,height]\n",
    "    user=matplotlib.patches.Rectangle((x,y),wide,height,color='yellow')\n",
    "    return rawData,user"
   ]
  },
  {
   "cell_type": "code",
   "execution_count": null,
   "metadata": {},
   "outputs": [],
   "source": []
  },
  {
   "cell_type": "markdown",
   "metadata": {},
   "source": [
    "In the main function, I can call the function in this way:"
   ]
  },
  {
   "cell_type": "code",
   "execution_count": 47,
   "metadata": {},
   "outputs": [
    {
     "data": {
      "text/plain": [
       "<matplotlib.patches.Rectangle at 0x1089cef50>"
      ]
     },
     "execution_count": 47,
     "metadata": {},
     "output_type": "execute_result"
    },
    {
     "data": {
      "image/png": "[encoded data removed]",
      "text/plain": [
       "<matplotlib.figure.Figure at 0x112c83f10>"
      ]
     },
     "metadata": {},
     "output_type": "display_data"
    }
   ],
   "source": [
    "import numpy as np\n",
    "import matplotlib\n",
    "import matplotlib.pyplot as plt\n",
    "\n",
    "\n",
    "areaLimit=10\n",
    "fig=plt.figure()\n",
    "plt.xlim([0*areaLimit,areaLimit])\n",
    "plt.ylim([0*areaLimit,areaLimit])\n",
    "ax=fig.add_subplot(111)\n",
    "rawData,user=newTower()\n",
    "user=matplotlib.patches.Rectangle((rawData[0],rawData[1]),rawData[2],rawData[3],color='yellow',alpha=0.5)\n",
    "ax.add_patch(user)"
   ]
  },
  {
   "cell_type": "markdown",
   "metadata": {},
   "source": [
    "then the second tower:"
   ]
  },
  {
   "cell_type": "code",
   "execution_count": 48,
   "metadata": {},
   "outputs": [
    {
     "data": {
      "image/png": "[encoded data removed]",
      "text/plain": [
       "<matplotlib.figure.Figure at 0x112c83f10>"
      ]
     },
     "execution_count": 48,
     "metadata": {},
     "output_type": "execute_result"
    }
   ],
   "source": [
    "rawData,user=newTower()\n",
    "user=matplotlib.patches.Rectangle((rawData[0],rawData[1]),rawData[2],rawData[3],color='blue',alpha=0.5)\n",
    "ax.add_patch(user)\n",
    "fig\n"
   ]
  },
  {
   "cell_type": "markdown",
   "metadata": {},
   "source": [
    "Here we can see there are the overlap in these two signal tower, to avoid the overlap, I will use matrix to do the analysis. first, we set the whole area to be 10x10 list and was initiated as 10x10 zeros:"
   ]
  },
  {
   "cell_type": "code",
   "execution_count": 94,
   "metadata": {},
   "outputs": [
    {
     "name": "stdout",
     "output_type": "stream",
     "text": [
      "[[0 0 0 0 0 0 0 0 0 0]\n",
      " [0 0 0 0 0 0 0 0 0 0]\n",
      " [0 0 0 0 0 0 0 0 0 0]\n",
      " [0 0 0 0 0 0 0 0 0 0]\n",
      " [0 0 0 0 0 0 0 0 0 0]\n",
      " [0 0 0 0 0 0 0 0 0 0]\n",
      " [0 0 0 0 0 0 0 0 0 0]\n",
      " [0 0 0 0 0 0 0 0 0 0]\n",
      " [0 0 0 0 0 0 0 0 0 0]\n",
      " [0 0 0 0 0 0 0 0 0 0]]\n"
     ]
    }
   ],
   "source": [
    "filled_points=np.zeros([areaLimit,areaLimit],dtype=int)\n",
    "print filled_points"
   ]
  },
  {
   "cell_type": "markdown",
   "metadata": {},
   "source": [
    "as we notice that the first(yellow) rectangle is 7x7 , we will set it to be zero to note that these areas have been covered. rawData of the 1st rectangle should be [0,2,7,7], Then the filled_points should be as follows:"
   ]
  },
  {
   "cell_type": "code",
   "execution_count": 95,
   "metadata": {},
   "outputs": [
    {
     "name": "stdout",
     "output_type": "stream",
     "text": [
      "[[0 0 0 0 0 0 0 0 0 0]\n",
      " [1 1 1 1 1 1 1 0 0 0]\n",
      " [1 1 1 1 1 1 1 0 0 0]\n",
      " [1 1 1 1 1 1 1 0 0 0]\n",
      " [1 1 1 1 1 1 1 0 0 0]\n",
      " [1 1 1 1 1 1 1 0 0 0]\n",
      " [1 1 1 1 1 1 1 0 0 0]\n",
      " [1 1 1 1 1 1 1 0 0 0]\n",
      " [0 0 0 0 0 0 0 0 0 0]\n",
      " [0 0 0 0 0 0 0 0 0 0]]\n"
     ]
    }
   ],
   "source": [
    "rawData=[0,2,7,7]\n",
    "counts=np.zeros((rawData[3],rawData[2]),dtype=int)\n",
    "for i in range(len(filled_points)):\n",
    "    for j in range(len(filled_points[i])):\n",
    "        assert filled_points[i][j] in [0,1]\n",
    "    #filled tower signal should be list of [0,1]\n",
    "for i in range(rawData[3]):\n",
    "    for j in range(rawData[2]):\n",
    "        filled_points[len(filled_points)-rawData[1]-rawData[3]+i][rawData[0]+j]=1\n",
    "print filled_points"
   ]
  },
  {
   "cell_type": "markdown",
   "metadata": {},
   "source": [
    "New we are going to analysis the 2nd tower, which rawData[2,8,6,2]. However, we are going to just count the non-overlap part. If there is already signal covered, we are going to set the value to 0, and only there is no signal covered, we can set the value to 1. so that we will get:"
   ]
  },
  {
   "cell_type": "code",
   "execution_count": 96,
   "metadata": {},
   "outputs": [
    {
     "name": "stdout",
     "output_type": "stream",
     "text": [
      "filled_points \n",
      "[[0 0 1 1 1 1 1 1 0 0]\n",
      " [1 1 1 1 1 1 1 1 0 0]\n",
      " [1 1 1 1 1 1 1 0 0 0]\n",
      " [1 1 1 1 1 1 1 0 0 0]\n",
      " [1 1 1 1 1 1 1 0 0 0]\n",
      " [1 1 1 1 1 1 1 0 0 0]\n",
      " [1 1 1 1 1 1 1 0 0 0]\n",
      " [1 1 1 1 1 1 1 0 0 0]\n",
      " [0 0 0 0 0 0 0 0 0 0]\n",
      " [0 0 0 0 0 0 0 0 0 0]]\n",
      "counts\n",
      "[[1 1 1 1 1 1]\n",
      " [0 0 0 0 0 1]]\n"
     ]
    }
   ],
   "source": [
    "rawData=[2,8,6,2]\n",
    "counts=np.zeros((rawData[3],rawData[2]),dtype=int)\n",
    "for i in range(rawData[3]):\n",
    "    for j in range(rawData[2]):\n",
    "        if filled_points[len(filled_points)-rawData[1]-rawData[3]+i][rawData[0]+j]==0:\n",
    "            counts[i][j]=1\n",
    "        else:\n",
    "            counts[i][j]=0\n",
    "        filled_points[len(filled_points)-rawData[1]-rawData[3]+i][rawData[0]+j]=1\n",
    "print 'filled_points \\n',filled_points\n",
    "print \"counts\\n\",counts"
   ]
  },
  {
   "cell_type": "markdown",
   "metadata": {},
   "source": [
    "in filled_points \"1\" means signal cover (before-trimmed), and '0' means no signal cover. Then we get the array counts to trim as above. In array counts, 1 means no overlap, 0 means overlapped. Then, we are going to use function accumulate to accumulate the counts one row by one row, the total procedure was included in function accumulate:"
   ]
  },
  {
   "cell_type": "code",
   "execution_count": 97,
   "metadata": {},
   "outputs": [],
   "source": [
    "def accumulate(filled_points,rawData):\n",
    "    counts=np.zeros((rawData[3],rawData[2]),dtype=int)\n",
    "    for i in range(len(filled_points)):\n",
    "        for j in range(len(filled_points[i])):\n",
    "            assert filled_points[i][j] in [0,1]\n",
    "    #filled tower signal should be list of [0,1]\n",
    "    for i in range(rawData[3]):\n",
    "        for j in range(rawData[2]):\n",
    "            if filled_points[len(filled_points)-rawData[1]-rawData[3]+i][rawData[0]+j]==0:\n",
    "                counts[i][j]=1\n",
    "            else:\n",
    "                counts[i][j]=0\n",
    "    accum=np.zeros((rawData[3],rawData[2]),dtype=int)\n",
    "    max_area=0\n",
    "    for i in range(0,len(counts)):\n",
    "        if i==0:\n",
    "            accum[i]=counts[i]\n",
    "        \n",
    "        else:\n",
    "            for j in range(len(counts[i])):\n",
    "                if counts[i][j]==0:\n",
    "                    accum[i][j]=0\n",
    "                else:\n",
    "                    accum[i][j]=accumulate[i-1][j]+1\n",
    "    return accumulate"
   ]
  },
  {
   "cell_type": "markdown",
   "metadata": {},
   "source": [
    "I will use the exaple above to show how the accumlate works:"
   ]
  },
  {
   "cell_type": "code",
   "execution_count": 98,
   "metadata": {},
   "outputs": [
    {
     "name": "stdout",
     "output_type": "stream",
     "text": [
      "[[1 1 1 1 1 1]\n",
      " [0 0 0 0 0 2]]\n"
     ]
    }
   ],
   "source": [
    "accum=np.zeros((rawData[3],rawData[2]),dtype=int)\n",
    "max_area=0\n",
    "for i in range(0,len(counts)):\n",
    "    if i==0:\n",
    "        accum[i]=counts[i]\n",
    "        \n",
    "    else:\n",
    "        for j in range(len(counts[i])):\n",
    "            if counts[i][j]==0:\n",
    "                accum[i][j]=0\n",
    "            else:\n",
    "                accum[i][j]=accum[i-1][j]+1\n",
    "print accum"
   ]
  },
  {
   "cell_type": "markdown",
   "metadata": {},
   "source": [
    "Then I will use row_max(a) and trim_rec(accumulate)function to trim the rectangle and get the rawData of trimmed rectangle:"
   ]
  },
  {
   "cell_type": "code",
   "execution_count": 124,
   "metadata": {},
   "outputs": [],
   "source": [
    "def row_max(a):\n",
    "    \n",
    "    max_area=0\n",
    "    for i in range(len(a)):\n",
    "        area=0\n",
    "        if a[i]==0:\n",
    "            continue\n",
    "        elif a[i]==1:\n",
    "            for j in range(i,len(a)):\n",
    "                if a[j]>0:\n",
    "                    area=area+1\n",
    "                    x=i\n",
    "                    print i,j,x,area\n",
    "                else:\n",
    "                    break\n",
    "            if area>max_area:\n",
    "                max_area=area\n",
    "                xx=x+1\n",
    "                print i,x\n",
    "                h=1\n",
    "            \n",
    "        elif a[i]>1:\n",
    "            for k in range(1,a[i]+1):\n",
    "                area=0\n",
    "                for j in range(i,len(a)):\n",
    "                    if a[j]>=k:\n",
    "                        area=area+k\n",
    "                    else: break\n",
    "                if area>max_area:\n",
    "                    max_area=area\n",
    "                    xx=i+1\n",
    "                    h=k-1\n",
    "    return max_area,xx,h\n",
    "def trim_rec(accumulate):\n",
    "    max_area=0\n",
    "    for i in range(len(accumulate)):\n",
    "        area,x,height=row_max(accumulate[i])\n",
    "        if area>max_area:\n",
    "            max_area,x,height=row_max(accumulate[i])\n",
    "            y=i\n",
    "            wide=max_area/height\n",
    "    return max_area,x+3,areaLimit-y-1,wide,height"
   ]
  },
  {
   "cell_type": "markdown",
   "metadata": {},
   "source": [
    "From the array accum, we can we directly see from array accum, the 1st row will form a rectangle with area of 5, while from the 2nd row, we can also trim a rectangle with area of 2, in that case, after compare the area, we know trim the area to the first row should be a good choice. We can also derive the rawData of trimmed rectangle: "
   ]
  },
  {
   "cell_type": "code",
   "execution_count": 125,
   "metadata": {},
   "outputs": [
    {
     "name": "stdout",
     "output_type": "stream",
     "text": [
      "0 0 0 1\n",
      "0 1 0 2\n",
      "0 2 0 3\n",
      "0 3 0 4\n",
      "0 4 0 5\n",
      "0 5 0 6\n",
      "0 0\n",
      "1 1 1 1\n",
      "1 2 1 2\n",
      "1 3 1 3\n",
      "1 4 1 4\n",
      "1 5 1 5\n",
      "2 2 2 1\n",
      "2 3 2 2\n",
      "2 4 2 3\n",
      "2 5 2 4\n",
      "3 3 3 1\n",
      "3 4 3 2\n",
      "3 5 3 3\n",
      "4 4 4 1\n",
      "4 5 4 2\n",
      "5 5 5 1\n",
      "0 0 0 1\n",
      "0 1 0 2\n",
      "0 2 0 3\n",
      "0 3 0 4\n",
      "0 4 0 5\n",
      "0 5 0 6\n",
      "0 0\n",
      "1 1 1 1\n",
      "1 2 1 2\n",
      "1 3 1 3\n",
      "1 4 1 4\n",
      "1 5 1 5\n",
      "2 2 2 1\n",
      "2 3 2 2\n",
      "2 4 2 3\n",
      "2 5 2 4\n",
      "3 3 3 1\n",
      "3 4 3 2\n",
      "3 5 3 3\n",
      "4 4 4 1\n",
      "4 5 4 2\n",
      "5 5 5 1\n",
      "6 9 9 6 1\n"
     ]
    }
   ],
   "source": [
    "# max_area=0\n",
    "# for i in range(len(accum)):\n",
    "#     area,x,height=row_max(accum[i])\n",
    "#     print area,x,height\n",
    "#     if area>max_area:\n",
    "#         max_area=area\n",
    "#         max_area,x,height=row_max(accum[i])\n",
    "#         y=i\n",
    "#         wide=max_area/height\n",
    "#     else:\n",
    "#         continue\n",
    "max_area,x,y,wide,height=trim_rec(accum)\n",
    "print max_area,x,y,wide,height"
   ]
  },
  {
   "cell_type": "code",
   "execution_count": null,
   "metadata": {},
   "outputs": [],
   "source": []
  },
  {
   "cell_type": "code",
   "execution_count": null,
   "metadata": {},
   "outputs": [],
   "source": []
  },
  {
   "cell_type": "code",
   "execution_count": null,
   "metadata": {},
   "outputs": [],
   "source": []
  },
  {
   "cell_type": "code",
   "execution_count": null,
   "metadata": {},
   "outputs": [],
   "source": []
  }
 ],
 "metadata": {
  "kernelspec": {
   "display_name": "Python 2",
   "language": "python",
   "name": "python2"
  },
  "language_info": {
   "codemirror_mode": {
    "name": "ipython",
    "version": 2
   },
   "file_extension": ".py",
   "mimetype": "text/x-python",
   "name": "python",
   "nbconvert_exporter": "python",
   "pygments_lexer": "ipython2",
   "version": "2.7.14"
  }
 },
 "nbformat": 4,
 "nbformat_minor": 2
}
